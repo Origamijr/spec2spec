{
 "cells": [
  {
   "cell_type": "code",
   "execution_count": 33,
   "metadata": {},
   "outputs": [],
   "source": [
    "import pyworld as pw\n",
    "import librosa\n",
    "import soundfile as sf\n",
    "import matplotlib.pyplot as plt\n",
    "import IPython.display as ipd\n",
    "import numpy as np\n",
    "import scipy.io\n",
    "import os"
   ]
  },
  {
   "cell_type": "code",
   "execution_count": 34,
   "metadata": {},
   "outputs": [],
   "source": [
    "data_folder = \"../voice_data/Initial recordings/\"\n",
    "files = []\n",
    "for dp, dn, filenames in os.walk(data_folder): \n",
    "    for f in filenames:\n",
    "        thisfile = [(os.path.normpath(os.path.join(dp, f)))]        \n",
    "        files = np.append(files, thisfile)\n",
    "        "
   ]
  },
  {
   "cell_type": "code",
   "execution_count": 35,
   "metadata": {},
   "outputs": [],
   "source": [
    "chalans = []\n",
    "laykaris = []\n",
    "taans = []\n",
    "for f in files:\n",
    "    thisaudio, sr = librosa.core.load(f, sr=None)\n",
    "    thisaudio = thisaudio[np.nonzero(thisaudio)]\n",
    "    if ('chalan' in f):\n",
    "        chalans = np.concatenate((chalans, thisaudio))\n",
    "    \n",
    "    if ('laykari' in f):\n",
    "        laykaris = np.concatenate((laykaris, thisaudio))\n",
    "    \n",
    "    if ('taan' in f):\n",
    "        taans = np.concatenate((taans, thisaudio))\n",
    "\n",
    "    "
   ]
  },
  {
   "cell_type": "code",
   "execution_count": 36,
   "metadata": {},
   "outputs": [],
   "source": [
    "f0_chalans, sp_chalans, ap_chalans = pw.wav2world(chalans, sr)\n",
    "f0_laykaris, sp_laykaris, ap_laykaris = pw.wav2world(laykaris, sr)\n",
    "f0_taans, sp_taans, ap_laykaris = pw.wav2world(taans, sr)"
   ]
  },
  {
   "cell_type": "code",
   "execution_count": 28,
   "metadata": {},
   "outputs": [],
   "source": [
    "scipy.io.savemat('./pitch_contours/initial_aa/chalan_f0.mat', dict(x=f0_chalans))\n",
    "scipy.io.savemat('./pitch_contours/initial_aa/laykari_f0.mat', dict(x=f0_laykaris))\n",
    "scipy.io.savemat('./pitch_contours/initial_aa/taan_f0.mat', dict(x=f0_taans))"
   ]
  },
  {
   "cell_type": "code",
   "execution_count": 32,
   "metadata": {},
   "outputs": [],
   "source": [
    "sf.write('../voice_data/initial_aa/all_chalan.wav', chalans, sr)\n",
    "sf.write('../voice_data/initial_aa/all_laykari.wav', laykaris, sr)\n",
    "sf.write('../voice_data/initial_aa/all_taan.wav', taans, sr)"
   ]
  }
 ],
 "metadata": {
  "kernelspec": {
   "display_name": "Python 3",
   "language": "python",
   "name": "python3"
  },
  "language_info": {
   "codemirror_mode": {
    "name": "ipython",
    "version": 3
   },
   "file_extension": ".py",
   "mimetype": "text/x-python",
   "name": "python",
   "nbconvert_exporter": "python",
   "pygments_lexer": "ipython3",
   "version": "3.8.3"
  }
 },
 "nbformat": 4,
 "nbformat_minor": 4
}
