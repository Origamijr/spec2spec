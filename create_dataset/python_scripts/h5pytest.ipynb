{
 "cells": [
  {
   "cell_type": "code",
   "execution_count": 87,
   "metadata": {},
   "outputs": [],
   "source": [
    "import os\n",
    "import h5py\n",
    "import numpy as np"
   ]
  },
  {
   "cell_type": "code",
   "execution_count": 88,
   "metadata": {},
   "outputs": [],
   "source": [
    "data_folder = \"../../data/\"\n",
    "data_file = \"initial_aa_dataset.hdf5\""
   ]
  },
  {
   "cell_type": "code",
   "execution_count": 89,
   "metadata": {},
   "outputs": [],
   "source": [
    "f = h5py.File(data_folder+data_file, mode='r')"
   ]
  },
  {
   "cell_type": "code",
   "execution_count": 90,
   "metadata": {},
   "outputs": [
    {
     "data": {
      "text/plain": [
       "['chalan', 'laykari', 'taan']"
      ]
     },
     "execution_count": 90,
     "metadata": {},
     "output_type": "execute_result"
    }
   ],
   "source": [
    "list(f.keys())"
   ]
  },
  {
   "cell_type": "code",
   "execution_count": 98,
   "metadata": {},
   "outputs": [],
   "source": [
    "for styles in f:\n",
    "    for datapoints in f[styles]:\n",
    "        f0 = f[f[styles][datapoints].name+'/f0']\n",
    "        mfsc_synth = f[f[styles][datapoints].name+'/log_mfsc_synth']\n",
    "        mfsc_real = f[f[styles][datapoints].name+'/log_mfsc_real']\n",
    "        #f0.append(f[f[styles][datapoints].name+'/f0'])\n",
    "        #mfsc_in.append(f[f[styles][datapoints].name+'/log_mfsc_synth'])\n",
    "        #mfsc_out.append(f[f[styles][datapoints].name+'/log_mfsc_real'])"
   ]
  },
  {
   "cell_type": "code",
   "execution_count": 99,
   "metadata": {},
   "outputs": [
    {
     "name": "stdout",
     "output_type": "stream",
     "text": [
      "(1024, 1)\n",
      "(1024, 128)\n",
      "(1024, 128)\n"
     ]
    }
   ],
   "source": [
    "print(np.shape(f0))\n",
    "print(np.shape(mfsc_synth))\n",
    "print(np.shape(mfsc_real))"
   ]
  },
  {
   "cell_type": "code",
   "execution_count": 100,
   "metadata": {},
   "outputs": [],
   "source": [
    "f0 = np.transpose(f0)\n",
    "mfsc_synth = np.transpose(mfsc_synth)\n",
    "mfsc_real = np.transpose(mfsc_real)"
   ]
  },
  {
   "cell_type": "code",
   "execution_count": 101,
   "metadata": {},
   "outputs": [
    {
     "name": "stdout",
     "output_type": "stream",
     "text": [
      "(1, 1024)\n",
      "(128, 1024)\n",
      "(128, 1024)\n"
     ]
    }
   ],
   "source": [
    "print(np.shape(f0))\n",
    "print(np.shape(mfsc_synth))\n",
    "print(np.shape(mfsc_real))"
   ]
  },
  {
   "cell_type": "code",
   "execution_count": 102,
   "metadata": {},
   "outputs": [
    {
     "name": "stdout",
     "output_type": "stream",
     "text": [
      "(128, 1024)\n"
     ]
    }
   ],
   "source": [
    "f0 = np.repeat(f0, mfsc_synth.shape[0], axis=0)\n",
    "print(f0.shape)"
   ]
  },
  {
   "cell_type": "code",
   "execution_count": 9,
   "metadata": {},
   "outputs": [],
   "source": [
    "data_folder = \"../../data/real/\"\n",
    "data_file = \"1-1.hdf5\""
   ]
  },
  {
   "cell_type": "code",
   "execution_count": 10,
   "metadata": {},
   "outputs": [],
   "source": [
    "f = h5py.File(data_folder+data_file, 'r')"
   ]
  },
  {
   "cell_type": "code",
   "execution_count": 12,
   "metadata": {},
   "outputs": [],
   "source": [
    "testf0 = f['f0']"
   ]
  },
  {
   "cell_type": "code",
   "execution_count": 14,
   "metadata": {},
   "outputs": [
    {
     "name": "stdout",
     "output_type": "stream",
     "text": [
      "(513, 6159)\n"
     ]
    }
   ],
   "source": [
    "print(np.shape(testf0))"
   ]
  },
  {
   "cell_type": "code",
   "execution_count": 48,
   "metadata": {},
   "outputs": [],
   "source": [
    "f0_mat = np.repeat(f0, mfsc_synth.shape[1], axis=1)"
   ]
  },
  {
   "cell_type": "code",
   "execution_count": 49,
   "metadata": {},
   "outputs": [
    {
     "name": "stdout",
     "output_type": "stream",
     "text": [
      "(1024, 128)\n"
     ]
    }
   ],
   "source": [
    "print(np.shape(f0_mat))"
   ]
  },
  {
   "cell_type": "code",
   "execution_count": null,
   "metadata": {},
   "outputs": [],
   "source": []
  }
 ],
 "metadata": {
  "kernelspec": {
   "display_name": "Python 3",
   "language": "python",
   "name": "python3"
  },
  "language_info": {
   "codemirror_mode": {
    "name": "ipython",
    "version": 3
   },
   "file_extension": ".py",
   "mimetype": "text/x-python",
   "name": "python",
   "nbconvert_exporter": "python",
   "pygments_lexer": "ipython3",
   "version": "3.8.3"
  }
 },
 "nbformat": 4,
 "nbformat_minor": 4
}
